{
 "cells": [
  {
   "cell_type": "markdown",
   "metadata": {},
   "source": [
    "### Load required libraries"
   ]
  },
  {
   "cell_type": "code",
   "execution_count": 1,
   "metadata": {
    "collapsed": true
   },
   "outputs": [],
   "source": [
    "## basc libraries\n",
    "from __future__ import division\n",
    "import os\n",
    "from glob import glob\n",
    "\n",
    "import urllib, cStringIO\n",
    "\n",
    "## pymongo\n",
    "import pymongo as pm\n",
    "\n",
    "## plotting libraries\n",
    "import matplotlib\n",
    "from matplotlib import pylab, mlab, pyplot\n",
    "%matplotlib inline\n",
    "from IPython.core.pylabtools import figsize, getfigs\n",
    "plt = pyplot\n",
    "import seaborn as sns\n",
    "sns.set_context('poster')\n",
    "sns.set_style('white')\n",
    "\n",
    "## basic\n",
    "import numpy as np\n",
    "import pandas as pd\n",
    "import json\n",
    "import re\n",
    "\n",
    "## for images\n",
    "from PIL import Image\n",
    "import base64\n",
    "\n",
    "## scipy stats\n",
    "import scipy.stats as stats\n",
    "from scipy.spatial import distance\n",
    "from scipy.stats import norm\n",
    "import scipy.stats as stats\n",
    "\n",
    "## sklearn\n",
    "import sklearn\n",
    "from sklearn.model_selection import train_test_split, cross_val_score\n",
    "from sklearn import svm\n",
    "from sklearn import linear_model, datasets, neighbors\n",
    "from sklearn.cluster import AffinityPropagation\n",
    "from sklearn import metrics\n",
    "\n",
    "## under/over sampling libraries\n",
    "from imblearn.over_sampling import RandomOverSampler\n",
    "from imblearn.under_sampling import RandomUnderSampler\n",
    "\n",
    "## custom functions\n",
    "# import embedding as emb\n",
    "# reload(emb)\n",
    "# from embedding import *"
   ]
  },
  {
   "cell_type": "markdown",
   "metadata": {},
   "source": [
    "## Define local custom functions"
   ]
  },
  {
   "cell_type": "code",
   "execution_count": 69,
   "metadata": {
    "collapsed": true
   },
   "outputs": [],
   "source": [
    "# z-score normalization to \"center\" the sketch embeddings\n",
    "def normalize(X):\n",
    "    X = X - X.mean(0)\n",
    "    X = X / np.maximum(X.std(0), 1e-5)\n",
    "    return X\n",
    "\n",
    "def normalize_RDM(MAT):\n",
    "    X = MAT - MAT.mean(0).mean(0)\n",
    "    X = X / np.maximum(MAT.std(0).std(0), 1e-5)\n",
    "    return X\n",
    "\n",
    "def flatten(x):\n",
    "    return [item for sublist in x for item in sublist]\n",
    "\n",
    "def get_class_means(X, labels):    \n",
    "    # load in and normalizes features first\n",
    "    _mu = np.zeros((len(np.unique(labels)), np.shape(X)[1]))        \n",
    "    X = normalize(X)\n",
    "    for vi, v in enumerate(np.unique(np.asarray(labels))):\n",
    "        Xv = X[labels == v]\n",
    "        nv = float(Xv.shape[0])\n",
    "        if nv > 0:\n",
    "            _mu[vi] = Xv.mean(0)\n",
    "    return _mu\n",
    "\n",
    "def load_features(cohort, layer_num,dataset):\n",
    "    layers = ['P1','P2','P3','P4','P5','FC6','FC7']    \n",
    "    F = np.load('../../data/features/FEATURES_{}_{}_Spatial_True.npy'.format(dataset,layers[layer_num],cohort))\n",
    "    M = pd.read_csv('../../data/features/METADATA_{}.csv'.format(dataset, cohort)) \n",
    "    M = M[['subid','category','timepoint']]\n",
    "    return F, M\n",
    "\n",
    "def restrict_sesion(KF,KM,session_label):\n",
    "    '''\n",
    "    only look at drawings from certain session\n",
    "    '''\n",
    "    _KF = KF[KM['session'].str.contains(session_label),:]\n",
    "    _KM = KM[KM['session'].str.contains(session_label)]\n",
    "    return _KF, _KM\n",
    "\n",
    "def get_class_means_bl(F, M,ordered_objs):  # just adapted to take in features and metadata directly; doesn't normalize  \n",
    "    X = F;\n",
    "    labels = M.category.values\n",
    "    _mu = np.zeros((len(np.unique(labels)), np.shape(X)[1]))        \n",
    "    for vi, v in enumerate(ordered_objs):\n",
    "        Xv = X[labels == v]\n",
    "        nv = float(Xv.shape[0])\n",
    "        if nv > 0:\n",
    "            _mu[vi] = Xv.mean(0)\n",
    "    return _mu\n"
   ]
  },
  {
   "cell_type": "markdown",
   "metadata": {},
   "source": [
    "### Load features from specific dataset and layer "
   ]
  },
  {
   "cell_type": "code",
   "execution_count": 70,
   "metadata": {},
   "outputs": [],
   "source": [
    "## CHOOSE LAYER IND FOR PLOTTING RDMS ETC\n",
    "layer_ind = 6\n",
    "# session_label = \"run_v3\"\n",
    "\n",
    "dataset='prakash'\n",
    "## load in kid features\n",
    "KF, KM = load_features('kid',layer_ind,dataset)"
   ]
  },
  {
   "cell_type": "code",
   "execution_count": 71,
   "metadata": {},
   "outputs": [],
   "source": [
    "# get rid of weird spaces in category names\n",
    "KM.category = KM.category.str.strip()\n",
    "KM.category = KM[\"category\"].replace(\"Plower\", \"Flower\")\n"
   ]
  },
  {
   "cell_type": "markdown",
   "metadata": {},
   "source": [
    "## Check out metadata"
   ]
  },
  {
   "cell_type": "code",
   "execution_count": 72,
   "metadata": {},
   "outputs": [],
   "source": [
    "labels = np.unique(KM.category.values)\n",
    "np.unique(labels) ## need to do some string parsing here...\n",
    "ordered_objs = labels\n"
   ]
  },
  {
   "cell_type": "markdown",
   "metadata": {},
   "source": []
  },
  {
   "cell_type": "markdown",
   "metadata": {},
   "source": [
    "## Step 1. Descriptives of how many drawings / features"
   ]
  },
  {
   "cell_type": "code",
   "execution_count": 73,
   "metadata": {},
   "outputs": [
    {
     "name": "stdout",
     "output_type": "stream",
     "text": [
      "Number of unique kids who contributed drawings = 19\n",
      "Number of features for 139 images in layer 6 = 4096\n"
     ]
    }
   ],
   "source": [
    "## print some variables\n",
    "print 'Number of unique kids who contributed drawings = {}'.format(np.size(np.unique(KM['subid'].values)))\n",
    "print 'Number of features for {} images in layer {} = {}'.format(np.shape(KF)[0], layer_ind, np.shape(KF)[1])\n",
    "feature_sketch_count = np.shape(KF)[0]\n",
    "\n",
    "# excluded_drawing_number = png_sketch_count - feature_sketch_count\n",
    "# print 'Number of excluded drawings = {}'.format(excluded_drawing_number)"
   ]
  },
  {
   "cell_type": "markdown",
   "metadata": {},
   "source": [
    "# Examine RDMs"
   ]
  },
  {
   "cell_type": "code",
   "execution_count": null,
   "metadata": {},
   "outputs": [],
   "source": []
  },
  {
   "cell_type": "code",
   "execution_count": 74,
   "metadata": {
    "collapsed": true
   },
   "outputs": [],
   "source": [
    "def plot_and_save_RDM(M,F,age,dataset,ordered_objs, condition,layer_ind):\n",
    "    ordered_means = get_class_means_bl(F, M, ordered_objs)\n",
    "    corrmat = np.corrcoef(ordered_means)\n",
    "    sns.set_style('white')\n",
    "    sns.set_context('paper')\n",
    "    fig = plt.figure(figsize=(40,40))\n",
    "    plt.matshow(1-corrmat, vmin=0, vmax=2)\n",
    "    plt.xticks(range(len(ordered_objs)), ordered_objs, rotation=90);\n",
    "    plt.yticks(range(len(ordered_objs)), ordered_objs); \n",
    "    plt.colorbar()\n",
    "    for tick in pylab.gca().xaxis.iter_ticks():\n",
    "        tick[0].label2On = True\n",
    "        tick[0].label1On = False\n",
    "        tick[0].label2.set_rotation('vertical')\n",
    "        tick[0].tick1On = False\n",
    "        tick[0].tick2On = False\n",
    "    for tick in pylab.gca().yaxis.iter_ticks():\n",
    "        tick[0].tick1On = False\n",
    "        tick[0].tick2On = False  \n",
    "    plt.gcf().subplots_adjust(left=0.5) \n",
    "    plt.savefig('./plots/RDM_{}_{}_{}_Layer_{}.pdf'.format(age, dataset, condition, layer_ind), bbox_inches=\"tight\")"
   ]
  },
  {
   "cell_type": "code",
   "execution_count": 75,
   "metadata": {},
   "outputs": [
    {
     "data": {
      "text/plain": [
       "<matplotlib.figure.Figure at 0x1a0cafd4d0>"
      ]
     },
     "metadata": {},
     "output_type": "display_data"
    },
    {
     "data": {
      "image/png": "[encoded data removed]",
      "text/plain": [
       "<matplotlib.figure.Figure at 0x1a0c7957d0>"
      ]
     },
     "metadata": {},
     "output_type": "display_data"
    }
   ],
   "source": [
    "plot_and_save_RDM(KM, KF,'all',dataset, ordered_objs, 'all drawings',layer_ind)"
   ]
  },
  {
   "cell_type": "code",
   "execution_count": 78,
   "metadata": {},
   "outputs": [],
   "source": [
    "timepoints = np.unique(KM.timepoint)"
   ]
  },
  {
   "cell_type": "code",
   "execution_count": 95,
   "metadata": {},
   "outputs": [
    {
     "name": "stdout",
     "output_type": "stream",
     "text": [
      "timepoint FU1 with 57 drawings from 4 categories\n",
      "timepoint FU2 with 48 drawings from 4 categories\n",
      "timepoint FU2a with 3 drawings from 1 categories\n",
      "timepoint FU2b with 9 drawings from 3 categories\n",
      "timepoint FU3 with 108 drawings from 4 categories\n",
      "timepoint PO1 with 57 drawings from 4 categories\n",
      "timepoint PO2 with 81 drawings from 4 categories\n",
      "timepoint Pre with 54 drawings from 4 categories\n"
     ]
    },
    {
     "data": {
      "text/plain": [
       "<matplotlib.figure.Figure at 0x1a0c422a50>"
      ]
     },
     "metadata": {},
     "output_type": "display_data"
    },
    {
     "data": {
      "image/png": "[encoded data removed]",
      "text/plain": [
       "<matplotlib.figure.Figure at 0x1a0ca33650>"
      ]
     },
     "metadata": {},
     "output_type": "display_data"
    },
    {
     "data": {
      "text/plain": [
       "<matplotlib.figure.Figure at 0x1a0c341ed0>"
      ]
     },
     "metadata": {},
     "output_type": "display_data"
    },
    {
     "data": {
      "image/png": "[encoded data removed]",
      "text/plain": [
       "<matplotlib.figure.Figure at 0x1a0c542710>"
      ]
     },
     "metadata": {},
     "output_type": "display_data"
    },
    {
     "data": {
      "text/plain": [
       "<matplotlib.figure.Figure at 0x1a0c9e1e90>"
      ]
     },
     "metadata": {},
     "output_type": "display_data"
    },
    {
     "data": {
      "image/png": "[encoded data removed]",
      "text/plain": [
       "<matplotlib.figure.Figure at 0x1a0c9eed50>"
      ]
     },
     "metadata": {},
     "output_type": "display_data"
    },
    {
     "data": {
      "text/plain": [
       "<matplotlib.figure.Figure at 0x1a0ca3a450>"
      ]
     },
     "metadata": {},
     "output_type": "display_data"
    },
    {
     "data": {
      "image/png": "[encoded data removed]",
      "text/plain": [
       "<matplotlib.figure.Figure at 0x1a12b3a890>"
      ]
     },
     "metadata": {},
     "output_type": "display_data"
    },
    {
     "data": {
      "text/plain": [
       "<matplotlib.figure.Figure at 0x1a0cb0f790>"
      ]
     },
     "metadata": {},
     "output_type": "display_data"
    },
    {
     "data": {
      "image/png": "[encoded data removed]",
      "text/plain": [
       "<matplotlib.figure.Figure at 0x1a12b2de90>"
      ]
     },
     "metadata": {},
     "output_type": "display_data"
    },
    {
     "data": {
      "text/plain": [
       "<matplotlib.figure.Figure at 0x1a0c7b0390>"
      ]
     },
     "metadata": {},
     "output_type": "display_data"
    },
    {
     "data": {
      "image/png": "[encoded data removed]",
      "text/plain": [
       "<matplotlib.figure.Figure at 0x1a223ba710>"
      ]
     },
     "metadata": {},
     "output_type": "display_data"
    }
   ],
   "source": [
    "age = 'all'\n",
    "for this_time in timepoints:\n",
    "    ind = KM.index[KM['timepoint'] == this_time]\n",
    "    KM_subset =  KM.loc[ind]\n",
    "    KF_subset =  KF[ind.tolist()]\n",
    "    num_categories = np.size(np.unique(KM_subset['category']))\n",
    "    print('timepoint {} with {} drawings from {} categories').format(this_time, np.size(KM_subset), num_categories)\n",
    "    if num_categories>3:\n",
    "        plot_and_save_RDM(KM_subset, KF_subset,this_time,dataset, ordered_objs, 'prakash',layer_ind)\n"
   ]
  }
 ],
 "metadata": {
  "kernelspec": {
   "display_name": "Python 2",
   "language": "python",
   "name": "python2"
  },
  "language_info": {
   "codemirror_mode": {
    "name": "ipython",
    "version": 2
   },
   "file_extension": ".py",
   "mimetype": "text/x-python",
   "name": "python",
   "nbconvert_exporter": "python",
   "pygments_lexer": "ipython2",
   "version": "2.7.3"
  }
 },
 "nbformat": 4,
 "nbformat_minor": 1
}
